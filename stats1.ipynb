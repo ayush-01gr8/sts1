{
 "cells": [
  {
   "cell_type": "markdown",
   "id": "5b1429bf-1a56-43fc-9157-13699083fc14",
   "metadata": {},
   "source": [
    "Q1. What is Statistics?"
   ]
  },
  {
   "cell_type": "markdown",
   "id": "4422d94d-202c-4e3d-940e-e7492d1476f6",
   "metadata": {},
   "source": [
    "Statistics is a branch of mathematics and a scientific discipline that involves the\n",
    "collection, analysis, interpretation, presentation, and organization of data."
   ]
  },
  {
   "cell_type": "markdown",
   "id": "67f2a63e-eee6-4b02-87d3-40c3dcfe9726",
   "metadata": {},
   "source": [
    "Q2. Define the different types of statistics and give an example of when each type might be used."
   ]
  },
  {
   "cell_type": "markdown",
   "id": "8e351b33-ce01-4358-8593-a67ff9804689",
   "metadata": {},
   "source": [
    "Descriptive Statistics:\n",
    "Descriptive statistics involves summarizing and describing the main features of a dataset. \n",
    "It helps in understanding the basic characteristics of the data without making any inferences beyond the sample itself. \n",
    "\n",
    "\n",
    "Example: Suppose a company wants to analyze the monthly sales of its products over the last year.\n",
    "Descriptive statistics would be used to calculate the average monthly sales, the highest-selling product,\n",
    "the spread of sales across different products, and create visualizations like line graphs to show the sales trends over time."
   ]
  },
  {
   "cell_type": "markdown",
   "id": "9703e907-3d06-46f9-a6fd-8a357c008511",
   "metadata": {},
   "source": [
    "Inferential Statistics:\n",
    "Inferential statistics involves making predictions or inferences about a larger population based on a sample of data.\n",
    "It uses probability theory to estimate population parameters and test hypotheses\n",
    "\n",
    "\n",
    "Example: A political pollster wants to estimate the approval rating of a presidential candidate among all eligible voters in a country. \n",
    "It is not possible to survey every voter, so the pollster collects a representative sample of voters and uses inferential statistics to\n",
    "estimate the candidate's approval rating with a margin of error.\n",
    "Techniques like confidence intervals and hypothesis testing are commonly used in this context."
   ]
  },
  {
   "cell_type": "markdown",
   "id": "3f4225f5-6d27-4bdf-b415-b86a85aa08cd",
   "metadata": {},
   "source": [
    "Q3. What are the different types of data and how do they differ from each other? Provide an example of\n",
    "each type of data."
   ]
  },
  {
   "cell_type": "markdown",
   "id": "53433e7e-932b-4217-99e7-09ff2ce42684",
   "metadata": {},
   "source": [
    "Nominal Data:\n",
    "Nominal data represents categories or labels that have no inherent order or numerical significance. These categories are typically represented using \n",
    "words or symbols. In nominal data, you can only determine equality or difference between categories.\n",
    "Example: Hair colors of people in a survey (e.g., black, brown, blonde, red) are nominal data. You can determine if two people have the same hair \n",
    "color or not, but you cannot perform arithmetic operations like adding or averaging these categories.\n",
    "\n",
    "Ordinal Data:\n",
    "Ordinal data also represents categories, but unlike nominal data, these categories have a meaningful order or ranking. However, the differences \n",
    "between the categories are not quantifiable or uniform. It indicates relative rankings between the categories.\n",
    "Example: Rating the satisfaction level of customers as \"Very Dissatisfied,\" \"Dissatisfied,\" \"Neutral,\" \"Satisfied,\" and \"Very Satisfied\" is ordinal\n",
    "data. You can determine which satisfaction level is higher or lower, but you cannot say how much more satisfied one customer is compared to another.\n",
    "\n",
    "Interval Data:\n",
    "Interval data has ordered categories with consistent intervals between them, and it allows for arithmetic operations like addition and subtraction.\n",
    "However, it lacks a \n",
    "true zero point, making multiplication and division meaningless in this context.\n",
    "Example: Temperature measured in Celsius or Fahrenheit is interval data. The difference between 20°C and 30°C is the same as the difference\n",
    "between 30°C and 40°C, but you cannot say that 40°C is twice as hot as 20°C.\n",
    "\n",
    "Ratio Data:\n",
    "Ratio data also has ordered categories with consistent intervals, but it has a true zero point, allowing meaningful multiplication and division\n",
    "operations. Ratio data possess all the properties of nominal, ordinal, and interval data.\n",
    "Example: The weight of a person measured in kilograms is ratio data. A person weighing 60 kg is twice as heavy as a person weighing 30 kg, \n",
    "and you can perform meaningful arithmetic operations with this data type."
   ]
  },
  {
   "cell_type": "markdown",
   "id": "2749eaca-b09d-4fe1-915a-2ce902d110f7",
   "metadata": {},
   "source": [
    "Q4. Categorise the following datasets with respect to quantitative and qualitative data types:\n",
    "(i) Grading in exam: A+, A, B+, B, C+, C, D, E-----------------------------------------qualitative\n",
    "(ii) Colour of mangoes: yellow, green, orange, red-------------------------------------qualitative\n",
    "(iii) Height data of a class: [178.9, 179, 179.5, 176, 177.2, 178.3, 175.8,...]--------quantitative\n",
    "(iv) Number of mangoes exported by a farm: [500, 600, 478, 672, ...]-------------------quantitative"
   ]
  },
  {
   "cell_type": "markdown",
   "id": "6b85123c-b5e9-47e8-9ced-d904f8259877",
   "metadata": {},
   "source": [
    "Q5. Explain the concept of levels of measurement and give an example of a variable for each level."
   ]
  },
  {
   "cell_type": "markdown",
   "id": "9e0ef9ae-8fdd-4499-9378-d3d156aa65b0",
   "metadata": {},
   "source": [
    "Levels of measurement, also known as scales of measurement, refer to the different ways data can be classified or measured. There are four primary\n",
    "levels of measurement: nominal, ordinal, interval, and ratio. Each level has unique characteristics, and the level of measurement determines the \n",
    "types of statistical analyses and operations that can be applied to the data.\n",
    "\n",
    "Nominal Level of Measurement:\n",
    "At the nominal level, data are categorized into distinct groups or classes. Variables at this level are qualitative and have no numerical significance.\n",
    "The only operation that can be performed is counting and determining equality or difference between categories.\n",
    "Example: Eye color of individuals (e.g., blue, brown, green) is at the nominal level of measurement.\n",
    "\n",
    "Ordinal Level of Measurement:\n",
    "In the ordinal level, data have an inherent order or ranking between categories, but the differences between the categories are not uniform or\n",
    "quantifiable. Variables at this level are qualitative, but they also imply relative ranking.\n",
    "Example: Survey responses for satisfaction levels (e.g., \"Very Dissatisfied,\" \"Dissatisfied,\" \"Neutral,\" \"Satisfied,\" \"Very Satisfied\") are at the\n",
    "ordinal level of measurement.\n",
    "\n",
    "Interval Level of Measurement:\n",
    "At the interval level, data are measured on a scale where the intervals between values are consistent and meaningful. However, there is\n",
    "no true zero point, and ratios between values are not meaningful.\n",
    "Example: Temperature measured in Celsius or Fahrenheit is at the interval level of measurement.\n",
    "\n",
    "Ratio Level of Measurement:\n",
    "The ratio level is the highest level of measurement and possesses all the properties of the previous levels. Data at this level have a \n",
    "true zero point, and ratios between values are meaningful.\n",
    "Example: Weight of individuals measured in kilograms is at the ratio level of measurement."
   ]
  },
  {
   "cell_type": "markdown",
   "id": "ef170e6e-42ed-42e1-b0d6-8f843ab063d9",
   "metadata": {},
   "source": [
    "Q6. Why is it important to understand the level of measurement when analyzing data? Provide an\n",
    "example to illustrate your answer."
   ]
  },
  {
   "cell_type": "markdown",
   "id": "a5d8344d-c9e9-48f3-8905-b152dc837e33",
   "metadata": {},
   "source": [
    "Understanding the level of measurement when analyzing data is crucial because it determines the types of statistical analyses and operations \n",
    "that can be applied to the data. \n",
    "Here are a few reasons why it is important:\n",
    "    \n",
    "Appropriate Statistical Techniques: Different levels of measurement require different statistical techniques. Using an inappropriate statistical\n",
    "method can lead to inaccurate or misleading results. By understanding the level of measurement, researchers can choose the appropriate statistical \n",
    "tests and procedures that are valid for their data.\n",
    "Example: Suppose a researcher wants to compare the average income of individuals based on their educational attainment. If the researcher treats \n",
    "education as a nominal variable and applies a technique like ANOVA (analysis of variance) that requires interval or ratio data, it would lead to\n",
    "incorrect conclusions. Instead, recognizing that education is an ordinal variable, the researcher can use non-parametric tests like the Kruskal-Wallis\n",
    "test, which are suitable for ordinal data.\n",
    "\n",
    "Meaningful Interpretation: The level of measurement influences the interpretation of the data. Different levels provide different levels of \n",
    "information and allow for varying degrees of inference and generalization. Understanding the level of measurement helps in appropriately interpreting\n",
    "and communicating the results.\n",
    "Example: Consider a Likert scale survey question asking respondents to rate their agreement with a statement on a scale of 1 to 5 (1=Strongly\n",
    "Disagree, 5=Strongly Agree). If the scale is treated as interval data, it might be tempting to compute an average score. However, \n",
    "since the scale is ordinal, it is more appropriate to report the median or proportions of respondents falling into each category, as \n",
    "the differences between \n",
    "the numerical values are not necessarily equal.    "
   ]
  },
  {
   "cell_type": "markdown",
   "id": "14e77728-4711-47ea-bdf3-3a04033664cf",
   "metadata": {},
   "source": [
    "Q7. How nominal data type is different from ordinal data type."
   ]
  },
  {
   "cell_type": "markdown",
   "id": "6df32426-bab1-4c8b-80c5-88e0e293e60e",
   "metadata": {},
   "source": [
    "Nominal :\n",
    "Definition: Nominal data consists of categories or labels that have no inherent order or ranking. The categories are mutually exclusive and\n",
    "do not have a numerical significance.\n",
    "Measurement: Nominal data can only be categorized and counted. It does not possess a quantitative or numerical value.\n",
    "Examples: Examples of nominal data include gender (male, female), eye color (blue, brown, green), or marital status (single, married, divorced).\n",
    "\n",
    "Ordinal Data:\n",
    "\n",
    "Definition: Ordinal data consists of categories that have a meaningful order or ranking. The categories represent relative differences between values,\n",
    "but the differences are not quantifiable or uniform.\n",
    "Measurement: Ordinal data indicates the rank or position of each category relative to others, but it does not provide information about the magnitude \n",
    "or distance between the categories.\n",
    "Examples: Examples of ordinal data include survey responses with Likert scales (e.g., strongly disagree, disagree, neutral, agree, strongly agree) \n",
    "or educational levels (e.g., high school, bachelor's degree, master's degree, Ph.D.)."
   ]
  },
  {
   "cell_type": "markdown",
   "id": "2ffb88bc-82aa-4901-90c4-8ea71b377be0",
   "metadata": {},
   "source": [
    "Q8. Which type of plot can be used to display data in terms of range?"
   ]
  },
  {
   "cell_type": "markdown",
   "id": "c73c1e93-333f-438c-91ad-a75869ea7e0e",
   "metadata": {},
   "source": [
    "A box plot, also known as a box-and-whisker plot, is commonly used to display data in terms of range. It provides a visual summary of the\n",
    "distribution and key statistics of a dataset, including the minimum and maximum values (range).\n",
    "\n",
    "The main components of a box plot include:\n",
    "\n",
    "Box: The box represents the interquartile range (IQR), which is the range between the 25th percentile (Q1) and the 75th percentile (Q3) of the data.\n",
    "It contains the middle 50% of the data.\n",
    "\n",
    "Median: A vertical line inside the box represents the median (or the 50th percentile), which divides the data into two equal halves.\n",
    "\n",
    "Whiskers: The whiskers extend from the edges of the box to the minimum and maximum non-outlier values within a certain range. The length of the \n",
    "whiskers may vary based on the specific method used to determine outliers.\n",
    "\n",
    "Outliers: Individual data points that fall outside the whiskers are considered outliers and are plotted as individual points."
   ]
  },
  {
   "cell_type": "markdown",
   "id": "52c9e8e2-ffd7-4063-81bf-3b92df92f2fb",
   "metadata": {},
   "source": [
    "Q9. Describe the difference between descriptive and inferential statistics. Give an example of each\n",
    "type of statistics and explain how they are used."
   ]
  },
  {
   "cell_type": "markdown",
   "id": "a44609e4-38de-477b-8a32-a3fcb186166c",
   "metadata": {},
   "source": [
    "Descriptive Statistics:\n",
    "Descriptive statistics involves the presentation, organization, and summarization of data to provide a clear and concise understanding of its\n",
    "main features. It is used to describe the basic characteristics of a dataset without making inferences beyond the data itself. Descriptive statistics help researchers and analysts to gain insights, identify patterns, and draw\n",
    "preliminary conclusions.\n",
    "Example: Let's consider a dataset containing the ages of students in a class: [18, 19, 20, 21, 22, 23, 24]. Descriptive statistics would be used\n",
    "to calculate the measures of central tendency (e.g., mean, median) to determine the average age of the students, and measures of variability \n",
    "(e.g., range, standard deviation) to understand the spread of ages in the class. Visualizations like histograms or bar charts may also be used \n",
    "to present the age distribution.\n",
    "\n",
    "Inferential Statistics:\n",
    "Inferential statistics involves making predictions or inferences about a larger population based on a sample of data. It uses probability \n",
    "theory to estimate population parameters and test hypotheses. Inferential statistics allow researchers to draw conclusions beyond the observed\n",
    "data and make generalizations about the entire population.\n",
    "Example: Suppose a researcher wants to determine the average height of all students in a university but cannot measure the entire population. \n",
    "Instead, they collect a random sample of 100 students and calculate the average height of the sample. By using inferential statistics, such as \n",
    "confidence intervals or hypothesis testing, the researcher can estimate the population average height with a certain level of confidence and \n",
    "test if there is a significant difference in height between males and females."
   ]
  },
  {
   "cell_type": "markdown",
   "id": "1947f7de-99ae-465e-88b3-0d5c1e94f8da",
   "metadata": {},
   "source": [
    "Q10. What are some common measures of central tendency and variability used in statistics? Explain\n",
    "how each measure can be used to describe a dataset."
   ]
  },
  {
   "cell_type": "code",
   "execution_count": null,
   "id": "43d571fa-d67b-4a64-82c1-6d1a91fa29fc",
   "metadata": {},
   "outputs": [],
   "source": []
  }
 ],
 "metadata": {
  "kernelspec": {
   "display_name": "Python 3 (ipykernel)",
   "language": "python",
   "name": "python3"
  },
  "language_info": {
   "codemirror_mode": {
    "name": "ipython",
    "version": 3
   },
   "file_extension": ".py",
   "mimetype": "text/x-python",
   "name": "python",
   "nbconvert_exporter": "python",
   "pygments_lexer": "ipython3",
   "version": "3.10.8"
  }
 },
 "nbformat": 4,
 "nbformat_minor": 5
}
